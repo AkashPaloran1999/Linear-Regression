{
 "cells": [
  {
   "cell_type": "code",
   "execution_count": 15,
   "id": "5e0a80a0",
   "metadata": {},
   "outputs": [],
   "source": [
    "import numpy as np\n",
    "import matplotlib.pyplot as plt\n",
    "import pandas as pd"
   ]
  },
  {
   "cell_type": "code",
   "execution_count": 16,
   "id": "76f343c1",
   "metadata": {
    "scrolled": true
   },
   "outputs": [
    {
     "data": {
      "text/html": [
       "<div>\n",
       "<style scoped>\n",
       "    .dataframe tbody tr th:only-of-type {\n",
       "        vertical-align: middle;\n",
       "    }\n",
       "\n",
       "    .dataframe tbody tr th {\n",
       "        vertical-align: top;\n",
       "    }\n",
       "\n",
       "    .dataframe thead th {\n",
       "        text-align: right;\n",
       "    }\n",
       "</style>\n",
       "<table border=\"1\" class=\"dataframe\">\n",
       "  <thead>\n",
       "    <tr style=\"text-align: right;\">\n",
       "      <th></th>\n",
       "      <th>x</th>\n",
       "      <th>y</th>\n",
       "    </tr>\n",
       "  </thead>\n",
       "  <tbody>\n",
       "    <tr>\n",
       "      <th>0</th>\n",
       "      <td>24</td>\n",
       "      <td>21.549452</td>\n",
       "    </tr>\n",
       "    <tr>\n",
       "      <th>1</th>\n",
       "      <td>50</td>\n",
       "      <td>47.464463</td>\n",
       "    </tr>\n",
       "    <tr>\n",
       "      <th>2</th>\n",
       "      <td>15</td>\n",
       "      <td>17.218656</td>\n",
       "    </tr>\n",
       "    <tr>\n",
       "      <th>3</th>\n",
       "      <td>38</td>\n",
       "      <td>36.586398</td>\n",
       "    </tr>\n",
       "    <tr>\n",
       "      <th>4</th>\n",
       "      <td>87</td>\n",
       "      <td>87.288984</td>\n",
       "    </tr>\n",
       "  </tbody>\n",
       "</table>\n",
       "</div>"
      ],
      "text/plain": [
       "    x          y\n",
       "0  24  21.549452\n",
       "1  50  47.464463\n",
       "2  15  17.218656\n",
       "3  38  36.586398\n",
       "4  87  87.288984"
      ]
     },
     "execution_count": 16,
     "metadata": {},
     "output_type": "execute_result"
    }
   ],
   "source": [
    "# import the dataset\n",
    "data = pd.read_csv('akash.csv')\n",
    "data.head()"
   ]
  },
  {
   "cell_type": "code",
   "execution_count": 17,
   "id": "1fd06cd6",
   "metadata": {
    "scrolled": true
   },
   "outputs": [
    {
     "data": {
      "text/html": [
       "<div>\n",
       "<style scoped>\n",
       "    .dataframe tbody tr th:only-of-type {\n",
       "        vertical-align: middle;\n",
       "    }\n",
       "\n",
       "    .dataframe tbody tr th {\n",
       "        vertical-align: top;\n",
       "    }\n",
       "\n",
       "    .dataframe thead th {\n",
       "        text-align: right;\n",
       "    }\n",
       "</style>\n",
       "<table border=\"1\" class=\"dataframe\">\n",
       "  <thead>\n",
       "    <tr style=\"text-align: right;\">\n",
       "      <th></th>\n",
       "      <th>x</th>\n",
       "      <th>y</th>\n",
       "    </tr>\n",
       "  </thead>\n",
       "  <tbody>\n",
       "    <tr>\n",
       "      <th>count</th>\n",
       "      <td>699.000000</td>\n",
       "      <td>699.000000</td>\n",
       "    </tr>\n",
       "    <tr>\n",
       "      <th>mean</th>\n",
       "      <td>50.014306</td>\n",
       "      <td>49.939869</td>\n",
       "    </tr>\n",
       "    <tr>\n",
       "      <th>std</th>\n",
       "      <td>28.954560</td>\n",
       "      <td>29.109217</td>\n",
       "    </tr>\n",
       "    <tr>\n",
       "      <th>min</th>\n",
       "      <td>0.000000</td>\n",
       "      <td>-3.839981</td>\n",
       "    </tr>\n",
       "    <tr>\n",
       "      <th>25%</th>\n",
       "      <td>25.000000</td>\n",
       "      <td>24.929968</td>\n",
       "    </tr>\n",
       "    <tr>\n",
       "      <th>50%</th>\n",
       "      <td>49.000000</td>\n",
       "      <td>48.973020</td>\n",
       "    </tr>\n",
       "    <tr>\n",
       "      <th>75%</th>\n",
       "      <td>75.000000</td>\n",
       "      <td>74.929911</td>\n",
       "    </tr>\n",
       "    <tr>\n",
       "      <th>max</th>\n",
       "      <td>100.000000</td>\n",
       "      <td>108.871618</td>\n",
       "    </tr>\n",
       "  </tbody>\n",
       "</table>\n",
       "</div>"
      ],
      "text/plain": [
       "                x           y\n",
       "count  699.000000  699.000000\n",
       "mean    50.014306   49.939869\n",
       "std     28.954560   29.109217\n",
       "min      0.000000   -3.839981\n",
       "25%     25.000000   24.929968\n",
       "50%     49.000000   48.973020\n",
       "75%     75.000000   74.929911\n",
       "max    100.000000  108.871618"
      ]
     },
     "execution_count": 17,
     "metadata": {},
     "output_type": "execute_result"
    }
   ],
   "source": [
    "data.describe()"
   ]
  },
  {
   "cell_type": "code",
   "execution_count": 18,
   "id": "8aa7d487",
   "metadata": {},
   "outputs": [
    {
     "data": {
      "text/plain": [
       "x    0\n",
       "y    0\n",
       "dtype: int64"
      ]
     },
     "execution_count": 18,
     "metadata": {},
     "output_type": "execute_result"
    }
   ],
   "source": [
    "data.isnull().sum()"
   ]
  },
  {
   "cell_type": "code",
   "execution_count": 19,
   "id": "55bf0ff7",
   "metadata": {},
   "outputs": [
    {
     "data": {
      "text/plain": [
       "array([ 24,  50,  15,  38,  87,  36,  12,  81,  25,   5,  16,  16,  24,\n",
       "        39,  54,  60,  26,  73,  29,  31,  68,  87,  58,  54,  84,  58,\n",
       "        49,  20,  90,  48,   4,  25,  42,   0,  60,  93,  39,   7,  21,\n",
       "        68,  84,   0,  58,  19,  36,  19,  59,  51,  19,  33,  85,  44,\n",
       "         5,  59,  14,   9,  75,  69,  10,  17,  58,  74,  21,  51,  19,\n",
       "        50,  24,   0,  12,  75,  21,  64,   5,  58,  32,  41,   7,   4,\n",
       "         5,  49,  90,   3,  11,  32,  83,  25,  83,  26,  76,  95,  53,\n",
       "        77,  42,  25,  54,  55,   0,  73,  35,  86,  90,  13,  46,  46,\n",
       "        32,   8,  71,  28,  24,  56,  49,  79,  90,  89,  41,  27,  58,\n",
       "        26,  31,  70,  71,  39,   7,  48,  56,  45,  41,   3,  37,  24,\n",
       "        68,  47,  27,  68,  74,  95,  79,  21,  95,  54,  56,  80,  26,\n",
       "        25,   8,  95,  94,  54,   7,  99,  36,  48,  65,  42,  93,  86,\n",
       "        26,  51, 100,  94,   6,  24,  75,   7,  53,  73,  16,  80,  77,\n",
       "        89,  80,  55,  19,  56,  47,  56,   2,  82,  57,  44,  26,  52,\n",
       "        41,  44,   3,  31,  97,  21,  17,   7,  61,  10,  52,  10,  65,\n",
       "        71,   4,  24,  26,  51,  42,  62,  74,  77,   3,  50,  24,  37,\n",
       "        58,  52,  27,  14, 100,  72,   5,  71,  54,  84,  42,  54,  74,\n",
       "        54,  53,  78,  97,  49,  71,  48,  51,  89,  99,  93,  49,  18,\n",
       "        65,  83, 100,  41,  52,  29,  97,   7,  51,  58,  50,  67,  89,\n",
       "        76,  35,  99,  31,  52,  11,  66,  50,  39,  60,  35,  53,  14,\n",
       "        49,  16,  76,  13,  51,  70,  98,  86, 100,  46,  51,  50,  91,\n",
       "        48,  81,  38,  40,  79,  96,  60,  70,  44,  11,   6,   5,  72,\n",
       "        55,  95,  41,  25,   1,  55,   4,  48,  55,  75,  68, 100,  25,\n",
       "        75,  34,  38,  92,  21,  88,  75,  76,  44,  10,  21,  16,  32,\n",
       "        13,  26,  70,  77,  77,  88,  35,  24,  17,  91,  32,  36,  89,\n",
       "        69,  30,   6,  22,  67,   9,  74,  50,  85,   3,   0,  59,  62,\n",
       "        17,  90,  23,  19,  93,  14,  58,  87,  37,  20,  35,  63,  56,\n",
       "        62,  98,  90,  51,  93,  22,  38,  13,  98,  99,  31,  94,  73,\n",
       "        37,  23,  11,  88,  47,  79,  91,  71,  10,  39,  92,  99,  28,\n",
       "        32,  32,  75,  99,  27,  64,  98,  38,  46,  13,  96,   9,  34,\n",
       "        49,   1,  50,  94,  27,  20,  12,  45,  91,  61,  10,  47,  33,\n",
       "        84,  24,  48,  48,   9,  93,  99,   8,  20,  38,  78,  81,  42,\n",
       "        95,  78,  44,  68,  87,  58,  52,  26,  75,  48,  71,  77,  34,\n",
       "        24,  70,  29,  76,  98,  28,  87,   9,  87,  33,  64,  17,  49,\n",
       "        95,  75,  89,  81,  25,  47,  50,   5,  68,  84,   8,  41,  26,\n",
       "        89,  78,  34,  92,  27,  12,   2,  22,   0,  26,  50,  84,  70,\n",
       "        66,  42,  19,  94,  71,  19,  16,  49,  29,  29,  86,  50,  86,\n",
       "        30,  23,  20,  16,  57,   8,   8,  62,  55,  30,  86,  62,  51,\n",
       "        61,  86,  61,  21,  81,  97,   5,  61,  47,  98,  30,  63,   0,\n",
       "       100,  18,  30,  98,  16,  22,  55,  43,  75,  91,  46,  85,  55,\n",
       "        36,  49,  94,  43,  22,  37,  24,  95,  61,  75,  68,  58,   5,\n",
       "        53,  80,  83,  25,  34,  26,  90,  60,  49,  19,  92,  29,   8,\n",
       "        57,  29,  19,  81,  50,  15,  70,  39,  43,  21,  98,  86,  16,\n",
       "        25,  31,  93,  67,  49,  25,  88,  54,  21,   8,  32,  35,  67,\n",
       "        90,  59,  15,  67,  42,  44,  77,  68,  36,  11,  10,  65,  98,\n",
       "        98,  49,  31,  56,  70,  91,  25,  54,  39,  91,   3,  22,   2,\n",
       "         2,  65,  71,  42,  76,  43,   8,  86,  87,   3,  58,  62,  89,\n",
       "        95,  28,   0,   1,  49,  21,  46,  11,  89,  37,  29,  44,  96,\n",
       "        16,  74,  35,  42,  16,  56,  18, 100,  54,  92,  63,  81,  73,\n",
       "        48,   1,  85,  14,  25,  45,  98,  97,  58,  93,  88,  89,  47,\n",
       "         6,  34,  30,  16,  86,  40,  52,  15,   4,  95,  99,  35,  58,\n",
       "        10,  16,  53,  58,  42,  24,  84,  64,  12,  61,  75,  15, 100,\n",
       "        43,  13,  48,  45,  52,  34,  30,  65, 100,  67,  99,  45,  87,\n",
       "        73,   9,  81,  72,  81,  58,  93,  82,  66,  97], dtype=int64)"
      ]
     },
     "execution_count": 19,
     "metadata": {},
     "output_type": "execute_result"
    }
   ],
   "source": [
    "X = data.iloc[:, 0].values\n",
    "y = data.iloc[:, -1].values\n",
    "X"
   ]
  },
  {
   "cell_type": "code",
   "execution_count": 20,
   "id": "ffce9311",
   "metadata": {},
   "outputs": [],
   "source": [
    "from sklearn.model_selection import train_test_split\n",
    "X_train, X_test, y_train, y_test = train_test_split(X, y, test_size = 1/5, random_state = 0)"
   ]
  },
  {
   "cell_type": "code",
   "execution_count": 21,
   "id": "f5096953",
   "metadata": {},
   "outputs": [],
   "source": [
    "X_train = X_train.reshape(-1, 1)\n",
    "X_test = X_test.reshape(-1, 1)"
   ]
  },
  {
   "cell_type": "code",
   "execution_count": 22,
   "id": "f980df15",
   "metadata": {},
   "outputs": [
    {
     "data": {
      "text/plain": [
       "LinearRegression()"
      ]
     },
     "execution_count": 22,
     "metadata": {},
     "output_type": "execute_result"
    }
   ],
   "source": [
    "from sklearn.linear_model import LinearRegression\n",
    "regressor = LinearRegression()\n",
    "regressor.fit(X_train, y_train)"
   ]
  },
  {
   "cell_type": "code",
   "execution_count": 24,
   "id": "90299811",
   "metadata": {},
   "outputs": [
    {
     "data": {
      "text/plain": [
       "array([28.97952807, 57.93070834, 83.88693893, 75.90040645, 53.9374421 ,\n",
       "       50.94249242, 97.86337079, 24.98626183, 51.94080898, 45.95090961,\n",
       "       15.00309622, 71.9071402 , 70.90882364, 13.00646309, 24.98626183,\n",
       "       61.92397459, 87.88020518, 94.86842111, 65.91724083, 60.92565803,\n",
       "       69.91050708, 57.93070834, 92.87178799, 36.96606056, 38.96269368,\n",
       "        3.02329748, 49.94417586,  5.0199306 , 85.88357206, 49.94417586,\n",
       "       36.96606056, 21.99131214, 47.94754273, 40.95932681, 74.90208988,\n",
       "       72.90545676, 60.92565803, 59.92734147, 68.91219052, 20.99299558,\n",
       "       72.90545676, 19.99467902, 85.88357206, 18.99636246, 41.95764337,\n",
       "       99.86000391, 33.97111088,  8.01488029, 21.99131214, 24.98626183,\n",
       "       84.8852555 , 92.87178799, 22.9896287 , 85.88357206, 30.97616119,\n",
       "       98.86168735, 28.97952807, 94.86842111, 24.98626183, 48.94585929,\n",
       "       13.00646309, 50.94249242, 36.96606056, 10.01151341, 84.8852555 ,\n",
       "       80.89198925, 92.87178799, 77.89703957, 25.98457839,  8.01488029,\n",
       "       11.00982997, 16.00141278, 12.00814653, 83.88693893, 80.89198925,\n",
       "       96.86505423, 29.97784463, 82.88862237, 88.87852174, 54.93575866,\n",
       "       46.94922617, 66.9155574 , 87.88020518, 70.90882364, 62.92229115,\n",
       "       16.00141278,  7.01656373, 57.93070834, 40.95932681, 14.00477965,\n",
       "       79.89367269, 52.93912554, 60.92565803, 16.00141278,  7.01656373,\n",
       "       46.94922617, 18.99636246, 55.93407522, 25.98457839, 28.97952807,\n",
       "       20.99299558, 92.87178799,  7.01656373, 18.99636246,  5.0199306 ,\n",
       "       97.86337079, 57.93070834, 82.88862237, 85.88357206, 57.93070834,\n",
       "       76.89872301, 74.90208988,  9.01319685, 24.98626183, 93.87010455,\n",
       "       51.94080898, 65.91724083, 28.97952807, 89.8768383 , 90.87515486,\n",
       "       88.87852174, 25.98457839, 72.90545676, 28.97952807, 62.92229115,\n",
       "       95.86673767,  9.01319685, 32.97279432, 98.86168735, 49.94417586,\n",
       "       26.98289495, 72.90545676, 93.87010455, 98.86168735, 87.88020518,\n",
       "       16.00141278, 96.86505423, 42.95595993, 18.99636246, 18.99636246])"
      ]
     },
     "execution_count": 24,
     "metadata": {},
     "output_type": "execute_result"
    }
   ],
   "source": [
    "pred = regressor.predict(X_test)\n",
    "pred"
   ]
  },
  {
   "cell_type": "code",
   "execution_count": 26,
   "id": "82fb7ab7",
   "metadata": {},
   "outputs": [
    {
     "data": {
      "image/png": "[encoded data removed]",
      "text/plain": [
       "<Figure size 432x288 with 1 Axes>"
      ]
     },
     "metadata": {
      "needs_background": "light"
     },
     "output_type": "display_data"
    }
   ],
   "source": [
    "plt.scatter(X_train, y_train, color = 'red')\n",
    "plt.plot(X_test, regressor.predict(X_test), color = 'darkblue')\n",
    "plt.title('Simple Linear Regression')\n",
    "plt.xlabel('X')\n",
    "plt.ylabel('y')\n",
    "plt.show()"
   ]
  },
  {
   "cell_type": "code",
   "execution_count": 28,
   "id": "af63735b",
   "metadata": {},
   "outputs": [
    {
     "data": {
      "text/plain": [
       "array([24.98626183])"
      ]
     },
     "execution_count": 28,
     "metadata": {},
     "output_type": "execute_result"
    }
   ],
   "source": [
    "regressor.predict([[25]])"
   ]
  }
 ],
 "metadata": {
  "kernelspec": {
   "display_name": "Python 3 (ipykernel)",
   "language": "python",
   "name": "python3"
  },
  "language_info": {
   "codemirror_mode": {
    "name": "ipython",
    "version": 3
   },
   "file_extension": ".py",
   "mimetype": "text/x-python",
   "name": "python",
   "nbconvert_exporter": "python",
   "pygments_lexer": "ipython3",
   "version": "3.9.7"
  }
 },
 "nbformat": 4,
 "nbformat_minor": 5
}
